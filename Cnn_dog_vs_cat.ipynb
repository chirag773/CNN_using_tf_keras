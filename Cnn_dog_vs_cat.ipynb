{
  "nbformat": 4,
  "nbformat_minor": 0,
  "metadata": {
    "colab": {
      "name": "Cnn_dog_vs_cat.ipynb",
      "version": "0.3.2",
      "provenance": [],
      "collapsed_sections": [],
      "include_colab_link": true
    },
    "kernelspec": {
      "name": "python3",
      "display_name": "Python 3"
    },
    "accelerator": "GPU"
  },
  "cells": [
    {
      "cell_type": "markdown",
      "metadata": {
        "id": "view-in-github",
        "colab_type": "text"
      },
      "source": [
        "<a href=\"https://colab.research.google.com/github/chirag773/CNN_using_tf_keras/blob/master/Cnn_dog_vs_cat.ipynb\" target=\"_parent\"><img src=\"https://colab.research.google.com/assets/colab-badge.svg\" alt=\"Open In Colab\"/></a>"
      ]
    },
    {
      "metadata": {
        "id": "qvojpF_SYFfp",
        "colab_type": "code",
        "colab": {
          "base_uri": "https://localhost:8080/",
          "height": 411
        },
        "outputId": "9c638af3-97f4-4aaa-977e-f1191167a277"
      },
      "cell_type": "code",
      "source": [
        "import tensorflow as tf\n",
        "from tensorflow.keras.models import Sequential\n",
        "from tensorflow.keras.layers import Dense, Dropout, Activation, Flatten\n",
        "from tensorflow.keras.layers import Conv2D, MaxPooling2D\n",
        "\n",
        "import pickle\n",
        "\n",
        "X = pickle.load(open(\"X.pickle\",\"rb\"))\n",
        "\n",
        "y = pickle.load(open(\"y.pickle\",\"rb\"))\n",
        "\n",
        "X = X/255.0\n",
        "\n",
        "model = Sequential()\n",
        "\n",
        "model.add(Conv2D(32, (3, 3), activation='relu' , input_shape=X.shape[1:]))\n",
        "model.add(MaxPooling2D(pool_size=(2, 2)))\n",
        "\n",
        "model.add(Conv2D(64, (3, 3), activation='relu' , input_shape=X.shape[1:]))\n",
        "model.add(MaxPooling2D(pool_size=(2, 2)))\n",
        "\n",
        "model.add(Conv2D(128, (3, 3), activation='relu' , input_shape=X.shape[1:]))\n",
        "model.add(MaxPooling2D(pool_size=(2, 2)))\n",
        "\n",
        "model.add(Conv2D(256, (3, 3), activation='relu' , input_shape=X.shape[1:]))\n",
        "model.add(MaxPooling2D(pool_size=(2, 2)))\n",
        "\n",
        "model.add(Flatten())  # this converts our 3D feature maps to 1D feature vectors\n",
        "\n",
        "model.add(Dense(64, activation='relu'))\n",
        "model.add(Dropout(0.5))\n",
        "\n",
        "model.add(Dense(64, activation='relu'))\n",
        "model.add(Dropout(0.5))\n",
        "\n",
        "model.add(Dense(1))\n",
        "model.add(Activation('sigmoid'))\n",
        "\n",
        "model.compile(loss='binary_crossentropy',\n",
        "              optimizer='adam',\n",
        "              metrics=['accuracy'])\n",
        "\n",
        "model.fit(X, y, batch_size=32, epochs=10, validation_split=0.1)\n"
      ],
      "execution_count": 8,
      "outputs": [
        {
          "output_type": "stream",
          "text": [
            "Train on 22451 samples, validate on 2495 samples\n",
            "Epoch 1/10\n",
            "22451/22451 [==============================] - 12s 536us/sample - loss: 0.6900 - acc: 0.5236 - val_loss: 0.6767 - val_acc: 0.5631\n",
            "Epoch 2/10\n",
            "22451/22451 [==============================] - 11s 501us/sample - loss: 0.6557 - acc: 0.6157 - val_loss: 0.6118 - val_acc: 0.6581\n",
            "Epoch 3/10\n",
            "22451/22451 [==============================] - 11s 500us/sample - loss: 0.5754 - acc: 0.7075 - val_loss: 0.4829 - val_acc: 0.7723\n",
            "Epoch 4/10\n",
            "22451/22451 [==============================] - 11s 502us/sample - loss: 0.4890 - acc: 0.7705 - val_loss: 0.4532 - val_acc: 0.7928\n",
            "Epoch 5/10\n",
            "22451/22451 [==============================] - 11s 500us/sample - loss: 0.4400 - acc: 0.7984 - val_loss: 0.4492 - val_acc: 0.7996\n",
            "Epoch 6/10\n",
            "22451/22451 [==============================] - 11s 499us/sample - loss: 0.4018 - acc: 0.8184 - val_loss: 0.4016 - val_acc: 0.8172\n",
            "Epoch 7/10\n",
            "22451/22451 [==============================] - 11s 499us/sample - loss: 0.3655 - acc: 0.8394 - val_loss: 0.4354 - val_acc: 0.8000\n",
            "Epoch 8/10\n",
            "22451/22451 [==============================] - 11s 501us/sample - loss: 0.3404 - acc: 0.8491 - val_loss: 0.3852 - val_acc: 0.8349\n",
            "Epoch 9/10\n",
            "22451/22451 [==============================] - 11s 499us/sample - loss: 0.3042 - acc: 0.8690 - val_loss: 0.3896 - val_acc: 0.8397\n",
            "Epoch 10/10\n",
            "22451/22451 [==============================] - 11s 500us/sample - loss: 0.2764 - acc: 0.8836 - val_loss: 0.4009 - val_acc: 0.8333\n"
          ],
          "name": "stdout"
        },
        {
          "output_type": "execute_result",
          "data": {
            "text/plain": [
              "<tensorflow.python.keras.callbacks.History at 0x7f9cb5b04128>"
            ]
          },
          "metadata": {
            "tags": []
          },
          "execution_count": 8
        }
      ]
    },
    {
      "metadata": {
        "id": "KUPm5_CSottv",
        "colab_type": "code",
        "colab": {}
      },
      "cell_type": "code",
      "source": [
        ""
      ],
      "execution_count": 0,
      "outputs": []
    }
  ]
}