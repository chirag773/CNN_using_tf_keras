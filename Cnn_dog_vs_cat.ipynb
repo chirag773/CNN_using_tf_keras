{
  "nbformat": 4,
  "nbformat_minor": 0,
  "metadata": {
    "colab": {
      "name": "Cnn_dog_vs_cat.ipynb",
      "version": "0.3.2",
      "provenance": [],
      "collapsed_sections": [],
      "include_colab_link": true
    },
    "kernelspec": {
      "name": "python3",
      "display_name": "Python 3"
    },
    "accelerator": "GPU"
  },
  "cells": [
    {
      "cell_type": "markdown",
      "metadata": {
        "id": "view-in-github",
        "colab_type": "text"
      },
      "source": [
        "<a href=\"https://colab.research.google.com/github/chirag773/CNN_using_tf_keras/blob/master/Cnn_dog_vs_cat.ipynb\" target=\"_parent\"><img src=\"https://colab.research.google.com/assets/colab-badge.svg\" alt=\"Open In Colab\"/></a>"
      ]
    },
    {
      "metadata": {
        "id": "qvojpF_SYFfp",
        "colab_type": "code",
        "outputId": "2a2a54ad-7442-48e8-bcf3-a9049703239e",
        "colab": {
          "base_uri": "https://localhost:8080/",
          "height": 1091
        }
      },
      "cell_type": "code",
      "source": [
        "import tensorflow as tf\n",
        "from tensorflow.keras.models import Sequential\n",
        "from tensorflow.keras.layers import Dense, Dropout, Activation, Flatten\n",
        "from tensorflow.keras.layers import Conv2D, MaxPooling2D\n",
        "\n",
        "import pickle\n",
        "\n",
        "X = pickle.load(open(\"X.pickle\",\"rb\"))\n",
        "\n",
        "y = pickle.load(open(\"y.pickle\",\"rb\"))\n",
        "\n",
        "X = X/255.0\n",
        "\n",
        "model = Sequential()\n",
        "\n",
        "model.add( Conv2D(64, (3, 3),  input_shape=X.shape[1:]) )\n",
        "model.add( Activation('relu') )\n",
        "model.add(MaxPooling2D(pool_size=(2, 2)))\n",
        "\n",
        "model.add( Conv2D(64, (3, 3)) )\n",
        "model.add( Activation('relu') )\n",
        "model.add(MaxPooling2D(pool_size=(2, 2)))\n",
        "\n",
        "model.add(Conv2D(128, (3, 3)))\n",
        "model.add(Activation('relu'))\n",
        "model.add(MaxPooling2D(pool_size=(2, 2)))\n",
        "\n",
        "model.add(Conv2D(128, (3, 3)))\n",
        "model.add(Activation('relu'))\n",
        "model.add(MaxPooling2D(pool_size=(2, 2)))\n",
        "\n",
        "model.add(Flatten())  # this converts our 3D feature maps to 1D feature vectors\n",
        "\n",
        "model.add(Dense(64))\n",
        "model.add(Activation('relu'))\n",
        "model.add(Dropout(0.5))\n",
        "\n",
        "model.add(Dense(64))\n",
        "model.add(Activation('relu'))\n",
        "model.add(Dropout(0.5))\n",
        "\n",
        "model.add(Dense(1))\n",
        "model.add(Activation('sigmoid'))\n",
        "\n",
        "model.compile(loss='binary_crossentropy',\n",
        "              optimizer='adam',\n",
        "              metrics=['accuracy'])\n",
        "\n",
        "model.fit(X, y, batch_size=32, epochs=30, validation_split=0.1)\n",
        "\n"
      ],
      "execution_count": 127,
      "outputs": [
        {
          "output_type": "stream",
          "text": [
            "Train on 22451 samples, validate on 2495 samples\n",
            "Epoch 1/30\n",
            "22451/22451 [==============================] - 14s 612us/sample - loss: 0.6781 - acc: 0.5641 - val_loss: 0.6358 - val_acc: 0.6417\n",
            "Epoch 2/30\n",
            "22451/22451 [==============================] - 12s 551us/sample - loss: 0.5917 - acc: 0.6916 - val_loss: 0.5267 - val_acc: 0.7283\n",
            "Epoch 3/30\n",
            "22451/22451 [==============================] - 13s 561us/sample - loss: 0.4897 - acc: 0.7707 - val_loss: 0.4541 - val_acc: 0.7924\n",
            "Epoch 4/30\n",
            "22451/22451 [==============================] - 12s 544us/sample - loss: 0.4337 - acc: 0.8039 - val_loss: 0.4249 - val_acc: 0.8004\n",
            "Epoch 5/30\n",
            "22451/22451 [==============================] - 12s 538us/sample - loss: 0.3839 - acc: 0.8294 - val_loss: 0.4031 - val_acc: 0.8172\n",
            "Epoch 6/30\n",
            "22451/22451 [==============================] - 12s 539us/sample - loss: 0.3456 - acc: 0.8511 - val_loss: 0.4212 - val_acc: 0.8044\n",
            "Epoch 7/30\n",
            "22451/22451 [==============================] - 12s 539us/sample - loss: 0.3050 - acc: 0.8684 - val_loss: 0.4160 - val_acc: 0.8240\n",
            "Epoch 8/30\n",
            "22451/22451 [==============================] - 13s 560us/sample - loss: 0.2680 - acc: 0.8861 - val_loss: 0.4755 - val_acc: 0.8004\n",
            "Epoch 9/30\n",
            "22451/22451 [==============================] - 13s 570us/sample - loss: 0.2359 - acc: 0.9004 - val_loss: 0.5193 - val_acc: 0.8132\n",
            "Epoch 10/30\n",
            "22451/22451 [==============================] - 13s 573us/sample - loss: 0.2066 - acc: 0.9161 - val_loss: 0.5241 - val_acc: 0.8140\n",
            "Epoch 11/30\n",
            "22451/22451 [==============================] - 12s 550us/sample - loss: 0.1827 - acc: 0.9276 - val_loss: 0.5528 - val_acc: 0.8044\n",
            "Epoch 12/30\n",
            "22451/22451 [==============================] - 12s 542us/sample - loss: 0.1524 - acc: 0.9404 - val_loss: 0.6039 - val_acc: 0.8128\n",
            "Epoch 13/30\n",
            "22451/22451 [==============================] - 13s 558us/sample - loss: 0.1306 - acc: 0.9483 - val_loss: 0.6824 - val_acc: 0.8160\n",
            "Epoch 14/30\n",
            "22451/22451 [==============================] - 13s 577us/sample - loss: 0.1097 - acc: 0.9600 - val_loss: 0.6962 - val_acc: 0.8120\n",
            "Epoch 15/30\n",
            "22451/22451 [==============================] - 13s 560us/sample - loss: 0.1051 - acc: 0.9625 - val_loss: 0.7465 - val_acc: 0.8020\n",
            "Epoch 16/30\n",
            "22451/22451 [==============================] - 12s 550us/sample - loss: 0.0871 - acc: 0.9675 - val_loss: 0.8191 - val_acc: 0.7988\n",
            "Epoch 17/30\n",
            "22451/22451 [==============================] - 14s 642us/sample - loss: 0.0757 - acc: 0.9739 - val_loss: 0.8382 - val_acc: 0.8076\n",
            "Epoch 18/30\n",
            "22451/22451 [==============================] - 14s 638us/sample - loss: 0.0779 - acc: 0.9718 - val_loss: 0.9900 - val_acc: 0.8060\n",
            "Epoch 19/30\n",
            "22451/22451 [==============================] - 15s 650us/sample - loss: 0.0603 - acc: 0.9776 - val_loss: 0.9785 - val_acc: 0.8072\n",
            "Epoch 20/30\n",
            "22451/22451 [==============================] - 14s 644us/sample - loss: 0.0630 - acc: 0.9765 - val_loss: 0.9883 - val_acc: 0.8108\n",
            "Epoch 21/30\n",
            "22451/22451 [==============================] - 15s 662us/sample - loss: 0.0648 - acc: 0.9758 - val_loss: 0.9372 - val_acc: 0.8100\n",
            "Epoch 22/30\n",
            "22451/22451 [==============================] - 15s 651us/sample - loss: 0.0570 - acc: 0.9792 - val_loss: 1.1150 - val_acc: 0.8080\n",
            "Epoch 23/30\n",
            "22451/22451 [==============================] - 15s 652us/sample - loss: 0.0593 - acc: 0.9800 - val_loss: 0.9601 - val_acc: 0.8100\n",
            "Epoch 24/30\n",
            "22451/22451 [==============================] - 15s 655us/sample - loss: 0.0458 - acc: 0.9837 - val_loss: 1.0934 - val_acc: 0.8064\n",
            "Epoch 25/30\n",
            "22451/22451 [==============================] - 15s 647us/sample - loss: 0.0531 - acc: 0.9811 - val_loss: 1.3312 - val_acc: 0.7832\n",
            "Epoch 26/30\n",
            "22451/22451 [==============================] - 14s 646us/sample - loss: 0.0482 - acc: 0.9840 - val_loss: 1.1843 - val_acc: 0.8076\n",
            "Epoch 27/30\n",
            "22451/22451 [==============================] - 14s 645us/sample - loss: 0.0404 - acc: 0.9865 - val_loss: 1.2657 - val_acc: 0.8124\n",
            "Epoch 28/30\n",
            "22451/22451 [==============================] - 14s 643us/sample - loss: 0.0417 - acc: 0.9850 - val_loss: 1.2185 - val_acc: 0.8072\n",
            "Epoch 29/30\n",
            "22451/22451 [==============================] - 15s 646us/sample - loss: 0.0422 - acc: 0.9854 - val_loss: 1.1105 - val_acc: 0.8144\n",
            "Epoch 30/30\n",
            "22451/22451 [==============================] - 15s 648us/sample - loss: 0.0388 - acc: 0.9867 - val_loss: 1.2472 - val_acc: 0.8216\n"
          ],
          "name": "stdout"
        },
        {
          "output_type": "execute_result",
          "data": {
            "text/plain": [
              "<tensorflow.python.keras.callbacks.History at 0x7fc920d204e0>"
            ]
          },
          "metadata": {
            "tags": []
          },
          "execution_count": 127
        }
      ]
    },
    {
      "metadata": {
        "id": "KUPm5_CSottv",
        "colab_type": "code",
        "colab": {
          "base_uri": "https://localhost:8080/",
          "height": 399
        },
        "outputId": "7289fa63-7404-40b2-f1f4-e046c6ec8c06"
      },
      "cell_type": "code",
      "source": [
        "import matplotlib.pyplot as plt\n",
        "import cv2\n",
        "from keras.preprocessing import image\n",
        "\n",
        "\n",
        "fname = './drive/My Drive/Colab_Notebooks1/image5.jpeg'  # path to current file\n",
        "\n",
        "\n",
        "image = cv2.imread(fname,cv2.IMREAD_GRAYSCALE) # convert photo into gray scale\n",
        "print(image.shape)                             # printing current shape\n",
        "image = cv2.resize(image, (50,50))             # resizing into 50,50\n",
        "plt.imshow(image)                              # display image\n",
        "image = image.reshape(1,50,50,1)               # reshaping image into 1,50,50,1\n",
        "result = model.predict(image)                  \n",
        "if result[0][0] >= 0.5:\n",
        "    prediction = 'cat'\n",
        "else:\n",
        "     prediction = 'dog'\n",
        "print(model.predict(image))\n",
        "print(prediction)\n"
      ],
      "execution_count": 140,
      "outputs": [
        {
          "output_type": "stream",
          "text": [
            "(183, 275)\n",
            "[[0.]]\n",
            "dog\n"
          ],
          "name": "stdout"
        },
        {
          "output_type": "display_data",
          "data": {
            "image/png": "[encoded data removed]",
            "text/plain": [
              "<Figure size 576x396 with 1 Axes>"
            ]
          },
          "metadata": {
            "tags": []
          }
        }
      ]
    },
    {
      "metadata": {
        "id": "ArL6alye932u",
        "colab_type": "code",
        "colab": {}
      },
      "cell_type": "code",
      "source": [
        "# "
      ],
      "execution_count": 0,
      "outputs": []
    }
  ]
}